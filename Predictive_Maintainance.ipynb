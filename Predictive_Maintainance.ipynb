{
  "nbformat": 4,
  "nbformat_minor": 0,
  "metadata": {
    "colab": {
      "provenance": []
    },
    "kernelspec": {
      "name": "python3",
      "display_name": "Python 3"
    },
    "language_info": {
      "name": "python"
    }
  },
  "cells": [
    {
      "cell_type": "code",
      "execution_count": null,
      "metadata": {
        "id": "Vi47wvA8WmnT"
      },
      "outputs": [],
      "source": [
        "import pandas as pd\n",
        "import numpy as np\n",
        "from datetime import datetime, timedelta\n",
        "\n",
        "# Set the initial timestamp and number of data points\n",
        "start_timestamp = datetime(2022, 1, 1)\n",
        "num_data_points = 10000\n",
        "\n",
        "# Generate synthetic sensor data\n",
        "timestamps = [start_timestamp + timedelta(minutes=i) for i in range(num_data_points)]\n",
        "temperature = np.random.normal(loc=25, scale=2, size=num_data_points)\n",
        "vibration = np.random.normal(loc=0.05, scale=0.02, size=num_data_points)\n",
        "pressure = np.random.normal(loc=10, scale=0.5, size=num_data_points)\n",
        "failure = np.zeros(num_data_points)\n",
        "\n",
        "# Introduce failures at random points\n",
        "failure_indices = np.random.choice(range(num_data_points), size=int(num_data_points * 0.05), replace=False)\n",
        "failure[failure_indices] = 1\n",
        "\n",
        "# Create the dataframe\n",
        "data = pd.DataFrame({\n",
        "    'timestamp': timestamps,\n",
        "    'temperature': temperature,\n",
        "    'vibration': vibration,\n",
        "    'pressure': pressure,\n",
        "    'failure': failure\n",
        "})\n"
      ]
    },
    {
      "cell_type": "code",
      "source": [
        "data.to_csv(\"sensor_data.csv\", index=False)"
      ],
      "metadata": {
        "id": "U7BaNER6YCI3"
      },
      "execution_count": null,
      "outputs": []
    },
    {
      "cell_type": "code",
      "source": [
        "# Import necessary libraries\n",
        "import pandas as pd\n",
        "import numpy as np\n",
        "\n",
        "# Load the dataset\n",
        "data = pd.read_csv(\"sensor_data.csv\")\n",
        "\n",
        "# Perform exploratory data analysis (EDA)\n",
        "print(data.head())  # Display the first few rows of the dataset\n",
        "print(data.describe())  # Summary statistics of the dataset\n",
        "\n",
        "# Preprocess the data\n",
        "data.dropna(inplace=True)  # Drop rows with missing values\n",
        "# Handle outliers (e.g., using z-score or interquartile range)\n",
        "# Perform feature scaling if necessary\n",
        "\n",
        "# Split the dataset into training and testing sets\n",
        "from sklearn.model_selection import train_test_split\n",
        "\n",
        "X = data.drop(\"failure\", axis=1)  # Input features (sensor readings)\n",
        "y = data[\"failure\"]  # Target variable (failure label)\n",
        "\n",
        "X_train, X_test, y_train, y_test = train_test_split(X, y, test_size=0.2, random_state=42)"
      ],
      "metadata": {
        "colab": {
          "base_uri": "https://localhost:8080/"
        },
        "id": "Z-GY_ReTZK1M",
        "outputId": "dbe5e8d1-1160-4ba0-f4ef-d78667661572"
      },
      "execution_count": null,
      "outputs": [
        {
          "output_type": "stream",
          "name": "stdout",
          "text": [
            "             timestamp  temperature  vibration   pressure  failure\n",
            "0  2022-01-01 00:00:00    22.093898   0.058400   9.585372      1.0\n",
            "1  2022-01-01 00:01:00    27.310995   0.030276  10.047233      0.0\n",
            "2  2022-01-01 00:02:00    23.876631   0.039579  10.662682      0.0\n",
            "3  2022-01-01 00:03:00    24.409262   0.043558   9.806565      0.0\n",
            "4  2022-01-01 00:04:00    25.586816   0.049481   9.694482      0.0\n",
            "        temperature     vibration      pressure       failure\n",
            "count  10000.000000  10000.000000  10000.000000  10000.000000\n",
            "mean      24.983058      0.050502      9.995674      0.050000\n",
            "std        1.993757      0.019911      0.501742      0.217956\n",
            "min       17.190676     -0.040095      8.041751      0.000000\n",
            "25%       23.638974      0.037181      9.661926      0.000000\n",
            "50%       24.977948      0.050587      9.994367      0.000000\n",
            "75%       26.300035      0.063994     10.329022      0.000000\n",
            "max       33.216929      0.129960     11.854854      1.000000\n"
          ]
        }
      ]
    }
  ]
}